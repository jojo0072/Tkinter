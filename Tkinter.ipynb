{
 "cells": [
  {
   "cell_type": "code",
   "execution_count": 1,
   "id": "b181f39c-c2c3-4c38-86ff-c36132eb458d",
   "metadata": {},
   "outputs": [],
   "source": [
    "import tkinter as tk"
   ]
  },
  {
   "cell_type": "markdown",
   "id": "9e75dc0c-dd6b-4d12-ac2b-d2c25f7c4aa6",
   "metadata": {},
   "source": [
    "**0. Essentials**"
   ]
  },
  {
   "cell_type": "code",
   "execution_count": 21,
   "id": "12ab1fc7-b7f3-4a4e-afc9-080853a7f002",
   "metadata": {},
   "outputs": [],
   "source": [
    "root=tk.Tk() # main window\n",
    "root.title(\"My Widget\")\n",
    "# geometry; widgets; pack, place, grid; widget callbacks etc.\n",
    "root.mainloop() # start Tkinter event loop"
   ]
  },
  {
   "cell_type": "markdown",
   "id": "baee8bd2-27b9-4b20-b552-5d33cd1b2109",
   "metadata": {},
   "source": [
    "**1. Label**"
   ]
  },
  {
   "cell_type": "code",
   "execution_count": 14,
   "id": "49f18689-d0dc-48da-92ae-fbfc92736991",
   "metadata": {},
   "outputs": [],
   "source": [
    "# Label(master, option) master is parent window(root)\n",
    "root=tk.Tk()\n",
    "root.title(\"Example\")\n",
    "var=tk.StringVar()\n",
    "var.set(\"Hello World\")\n",
    "label=tk.Label(root, \n",
    "               textvariable=var,\n",
    "               bg=\"red\", fg=\"yellow\",\n",
    "               font=(\"Helvetica\", 20, \"bold\"),\n",
    "               padx=10, pady=10,\n",
    "               anchor=\"e\")\n",
    "label.pack(pady=15)\n",
    "root.mainloop()"
   ]
  },
  {
   "cell_type": "markdown",
   "id": "a9b85881-9a65-4a95-97bf-a62deb7ca800",
   "metadata": {},
   "source": [
    "**2. Button**"
   ]
  },
  {
   "cell_type": "code",
   "execution_count": null,
   "id": "9c29c81a-4c3d-4844-9b12-10317823215b",
   "metadata": {},
   "outputs": [
    {
     "name": "stdout",
     "output_type": "stream",
     "text": [
      "Button Clicked!\n"
     ]
    }
   ],
   "source": [
    "# Button(parent, options), input\n",
    "root=tk.Tk()\n",
    "root.title(\"Example\")\n",
    "button = tk.Button(root, \n",
    "                   text=\"Click Me\", \n",
    "                   command=print(\"Button Clicked!\"), \n",
    "                   bg=\"blue\", \n",
    "                   fg=\"white\", \n",
    "                   font=(\"Arial\", 16), \n",
    "                   width=10, \n",
    "                   height=2, \n",
    "                   padx=5, \n",
    "                   pady=5)\n",
    "\n",
    "button.pack(pady=20)\n",
    "root.mainloop()"
   ]
  },
  {
   "cell_type": "markdown",
   "id": "61d9a04e-f193-4e4b-8fa5-f5228945c94c",
   "metadata": {},
   "source": [
    "**3. Entry**"
   ]
  },
  {
   "cell_type": "code",
   "execution_count": 7,
   "id": "4041fe6e-9ca3-4aff-bbe1-fdb6d57cf5e8",
   "metadata": {},
   "outputs": [
    {
     "name": "stdout",
     "output_type": "stream",
     "text": [
      "Name:  jojo\n",
      "Password:  7777\n",
      "Name:  jojooo\n",
      "Password:  88888\n"
     ]
    }
   ],
   "source": [
    "# Entry(parent, options)\n",
    "root = tk.Tk()\n",
    "root.title(\"First Tkinter Window\")\n",
    "name_var=tk.StringVar() # StringVar() enables to get the value in the widget to your Python code\n",
    "passw_var=tk.StringVar()\n",
    "def submit():\n",
    "    name=name_var.get() # retrieve current value in StringVar\n",
    "    password=passw_var.get()\n",
    "    print(\"Name:\", name)\n",
    "    print(\"Password:\", password)\n",
    "    name_var.set(\"\") # update the value of StringVar to nothing, so you can use it again without overwriting StringVar everytime\n",
    "    passw_var.set(\"\")\n",
    "name_label=tk.Label(root, text=\"Name:\",font=(\"Arial\", 20, \"bold\"))   # text if you have text directly and textvariable if you have a variable storing the text\n",
    "name_entry=tk.Entry(root, textvariable=name_var, font=(\"Arial\", 20, \"normal\"))\n",
    "passw_label=tk.Label(root, text=\"Password:\", font=(\"Arial\", 20, \"bold\"))\n",
    "passw_entry=tk.Entry(root, textvariable=passw_var, font=(\"Arial\", 20, \"normal\"), show=\"*\")\n",
    "sub=tk.Button(root, text=\"Submit\", command=submit)\n",
    "\n",
    "name_label.grid(row=0, column=0)\n",
    "name_entry.grid(row=0, column=1)\n",
    "passw_label.grid(row=1, column=0)\n",
    "passw_entry.grid(row=1, column=1)\n",
    "sub.grid(row=2, column=1)\n",
    "\n",
    "root.mainloop()"
   ]
  },
  {
   "cell_type": "markdown",
   "id": "526557f5-1cc3-42d6-b657-11a5b5439e42",
   "metadata": {},
   "source": [
    "**4. Frame**"
   ]
  },
  {
   "cell_type": "code",
   "execution_count": 3,
   "id": "027192b5-f896-46cc-aa59-105bf0d72ba1",
   "metadata": {},
   "outputs": [],
   "source": [
    "# frame(master, options), organize widgets\n",
    "def create_widget(parent, widget_type, **options):\n",
    "    return widget_type(parent, **options)\n",
    "\n",
    "# Create the main window\n",
    "window = create_widget(None, tk.Tk)\n",
    "window.title(\"GUI Example\")\n",
    "\n",
    "# Create a Frame widget with all options\n",
    "frame = create_widget(window, tk.Frame, bg='lightblue', bd=3, cursor='hand2', height=100, \n",
    "                      highlightcolor='red', highlightthickness=2, highlightbackground='black', \n",
    "                      relief=tk.RAISED, width=200)\n",
    "frame.pack(padx=20, pady=20)\n",
    "\n",
    "# Create Label widget with all options\n",
    "label = create_widget(frame, tk.Label, text='GeeksForGeeks', font='50', bg='lightblue', bd=3, cursor='hand2',\n",
    "                      highlightcolor='red', highlightthickness=2, highlightbackground='black', \n",
    "                      relief=tk.RAISED)\n",
    "label.pack()\n",
    "\n",
    "# Create a frame for buttons\n",
    "button_frame = create_widget(window, tk.Frame, bg='lightblue', bd=3, cursor='hand2', height=50, \n",
    "                              highlightcolor='red', highlightthickness=2, highlightbackground='black', \n",
    "                              relief=tk.RAISED, width=200)\n",
    "button_frame.pack(pady=10)\n",
    "\n",
    "# Function to create buttons with all options\n",
    "def create_button(parent, text, fg):\n",
    "    return create_widget(parent, tk.Button, text=text, fg=fg, bg='lightblue', bd=3, cursor='hand2',\n",
    "                         highlightcolor='red', highlightthickness=2, highlightbackground='black', \n",
    "                         relief=tk.RAISED)\n",
    "\n",
    "# Create buttons\n",
    "buttons_info = [(\"Geeks1\", \"red\"), (\"Geeks2\", \"brown\"), (\"Geeks3\", \"blue\"), \n",
    "                (\"Geeks4\", \"green\"), (\"Geeks5\", \"green\"), (\"Geeks6\", \"green\")]\n",
    "\n",
    "for text, fg in buttons_info:\n",
    "    button = create_button(button_frame, text=text, fg=fg)\n",
    "    button.pack(side=tk.LEFT)\n",
    "\n",
    "# Run the Tkinter event loop\n",
    "window.mainloop()"
   ]
  },
  {
   "cell_type": "markdown",
   "id": "f8797318-a6e9-4c7c-973f-d44e7dcabf8b",
   "metadata": {},
   "source": [
    "**5. Checkbutton**"
   ]
  },
  {
   "cell_type": "code",
   "execution_count": 5,
   "id": "e1c2f6e7-8940-4d08-9116-ac02d5b64a72",
   "metadata": {
    "scrolled": true
   },
   "outputs": [
    {
     "name": "stdout",
     "output_type": "stream",
     "text": [
      "Checkbutton is selected\n"
     ]
    }
   ],
   "source": [
    "def on_button_toggle():\n",
    "    if var.get() == 1:\n",
    "        print(\"Checkbutton is selected\")\n",
    "    else:\n",
    "        print(\"Checkbutton is deselected\")\n",
    "\n",
    "root = tk.Tk()\n",
    "\n",
    "# Creating a Checkbutton\n",
    "var = tk.IntVar()\n",
    "checkbutton = tk.Checkbutton(root, text=\"Enable Feature\", variable=var, \n",
    "                             onvalue=1, offvalue=0, command=on_button_toggle)\n",
    "\n",
    "# Setting options for the Checkbutton\n",
    "checkbutton.config(bg=\"lightgrey\", fg=\"blue\", font=(\"Arial\", 12), \n",
    "                   selectcolor=\"green\", relief=\"raised\", padx=10, pady=5)\n",
    "\n",
    "# Adding a bitmap to the Checkbutton\n",
    "checkbutton.config(bitmap=\"info\", width=20, height=2)\n",
    "\n",
    "# Placing the Checkbutton in the window\n",
    "checkbutton.pack(padx=40, pady=40)\n",
    "\n",
    "# Calling methods on the Checkbutton\n",
    "checkbutton.flash() # colour flash\n",
    "\n",
    "root.mainloop()\n"
   ]
  },
  {
   "cell_type": "markdown",
   "id": "19a265d9-7665-4552-96d7-8768e383c365",
   "metadata": {},
   "source": [
    "**6. Radiobutton**"
   ]
  },
  {
   "cell_type": "code",
   "execution_count": 13,
   "id": "6e4d826e-1371-4862-af85-b3d13671a08e",
   "metadata": {},
   "outputs": [],
   "source": [
    "master = tk.Tk()\n",
    "master.geometry(\"175x175\")\n",
    " \n",
    "# Tkinter string variable\n",
    "# able to store any string value\n",
    "v = tk.StringVar(master, \"1\")\n",
    " \n",
    "# Dictionary to create multiple buttons\n",
    "values = {\"RadioButton 1\" : \"1\",\n",
    "          \"RadioButton 2\" : \"2\",\n",
    "          \"RadioButton 3\" : \"3\",\n",
    "          \"RadioButton 4\" : \"4\",\n",
    "          \"RadioButton 5\" : \"5\"}\n",
    " \n",
    "# Loop is used to create multiple Radiobuttons\n",
    "# rather than creating each button separately\n",
    "for (text, value) in values.items():\n",
    "    tk.Radiobutton(master, text = text, variable = v, \n",
    "                value = value, indicator = 0,\n",
    "                background = \"light blue\").pack(fill=tk.X, ipady = 5)\n",
    " \n",
    "# Infinite loop can be terminated by\n",
    "# keyboard or mouse interrupt\n",
    "# or by any predefined function (destroy())\n",
    "master.mainloop()"
   ]
  },
  {
   "cell_type": "markdown",
   "id": "d11a9287-5775-452b-891c-d0604a245907",
   "metadata": {},
   "source": [
    "**7. Listbox**"
   ]
  },
  {
   "cell_type": "code",
   "execution_count": 12,
   "id": "1ad38f62-0f2e-492c-aeb4-5262ef7c2abb",
   "metadata": {},
   "outputs": [],
   "source": [
    "# create a root window.\n",
    "top = tk.Tk()\n",
    " \n",
    "# create listbox object\n",
    "listbox = tk.Listbox(top, height = 10, \n",
    "                  width = 15, \n",
    "                  bg = \"grey\",\n",
    "                  activestyle = 'dotbox', \n",
    "                  font = \"Helvetica\",\n",
    "                  fg = \"yellow\")\n",
    " \n",
    "# Define the size of the window.\n",
    "top.geometry(\"300x250\")  \n",
    " \n",
    "# Define a label for the list.  \n",
    "label = tk.Label(top, text = \" FOOD ITEMS\") \n",
    " \n",
    "# insert elements by their\n",
    "# index and names.\n",
    "listbox.insert(1, \"Nachos\")\n",
    "listbox.insert(2, \"Sandwich\")\n",
    "listbox.insert(3, \"Burger\")\n",
    "listbox.insert(4, \"Pizza\")\n",
    "listbox.insert(5, \"Burrito\")\n",
    " \n",
    "# pack the widgets\n",
    "label.pack()\n",
    "listbox.pack()\n",
    " \n",
    " \n",
    "# Display until User \n",
    "# exits themselves.\n",
    "top.mainloop()"
   ]
  },
  {
   "cell_type": "markdown",
   "id": "562cb8b2-3510-4fa8-b14f-79d4620d9e5d",
   "metadata": {},
   "source": [
    "**8. Scrollbar**"
   ]
  },
  {
   "cell_type": "code",
   "execution_count": 17,
   "id": "5cc0e2bd-e76c-46a6-903f-b3e59a1014ff",
   "metadata": {},
   "outputs": [],
   "source": [
    "from tkinter import *\n",
    "root = Tk() \n",
    "root.geometry(\"150x200\") \n",
    "   \n",
    "w = Label(root, text ='GeeksForGeeks', \n",
    "          font = \"50\")  \n",
    "  \n",
    "w.pack() \n",
    "   \n",
    "scroll_bar = tk.Scrollbar(root) \n",
    "  \n",
    "scroll_bar.pack( side = RIGHT, \n",
    "                fill = Y ) \n",
    "   \n",
    "mylist = Listbox(root,  \n",
    "                 yscrollcommand = scroll_bar.set ) \n",
    "   \n",
    "for line in range(1, 26): \n",
    "    mylist.insert(END, \"Geeks \" + str(line)) \n",
    "  \n",
    "mylist.pack( side = LEFT, fill = BOTH ) \n",
    "  \n",
    "scroll_bar.config( command = mylist.yview ) \n",
    "   \n",
    "root.mainloop() "
   ]
  },
  {
   "cell_type": "markdown",
   "id": "a1e3cdac-02c7-4f47-9800-576cf81f4fe8",
   "metadata": {},
   "source": [
    "**9. Menu**"
   ]
  },
  {
   "cell_type": "code",
   "execution_count": null,
   "id": "f733b483-5c29-4cb2-b17e-8e5f7ddde73b",
   "metadata": {},
   "outputs": [],
   "source": []
  },
  {
   "cell_type": "markdown",
   "id": "c25413a9-7cdf-4198-bb07-eb39845ee643",
   "metadata": {},
   "source": [
    "**10. Canvas**"
   ]
  },
  {
   "cell_type": "code",
   "execution_count": 18,
   "id": "33cdad8f-d842-4895-9a3f-2618e21dcb50",
   "metadata": {},
   "outputs": [],
   "source": [
    "from tkinter import *\n",
    " \n",
    " \n",
    "root = Tk()\n",
    " \n",
    "# Create Title\n",
    "root.title(  \"Paint App \")\n",
    " \n",
    "# specify size\n",
    "root.geometry(\"500x350\")\n",
    " \n",
    "# define function when  \n",
    "# mouse double click is enabled\n",
    "def paint( event ):\n",
    "    \n",
    "    # Co-ordinates.\n",
    "    x1, y1, x2, y2 = ( event.x - 3 ),( event.y - 3 ), ( event.x + 3 ),( event.y + 3 ) \n",
    "     \n",
    "    # Colour\n",
    "    Colour = \"#000fff000\"\n",
    "     \n",
    "    # specify type of display\n",
    "    w.create_line( x1, y1, x2, \n",
    "                  y2, fill = Colour )\n",
    " \n",
    " \n",
    "# create canvas widget.\n",
    "w = Canvas(root, width = 400, height = 250) \n",
    " \n",
    "# call function when double \n",
    "# click is enabled.\n",
    "w.bind( \"<B1-Motion>\", paint )\n",
    " \n",
    "# create label.\n",
    "l = Label( root, text = \"Double Click and Drag to draw.\" )\n",
    "l.pack()\n",
    "w.pack()\n",
    " \n",
    "mainloop()"
   ]
  },
  {
   "cell_type": "markdown",
   "id": "517ec8a0-2870-43c4-ae86-668b70fe743b",
   "metadata": {},
   "source": [
    "**place() method**"
   ]
  },
  {
   "cell_type": "code",
   "execution_count": 27,
   "id": "a2a05bee-c6ea-4d21-a097-39a4afe8dea1",
   "metadata": {},
   "outputs": [],
   "source": [
    "root = tk.Tk()\n",
    "root.title(\"Tkinter Place Method Example\")\n",
    "root.geometry(\"400x300\")\n",
    "label = tk.Label(root, text=\"Hello, Tkinter!\", bg=\"yellow\")\n",
    "label.place(x=50, y=50)\n",
    "label2 = tk.Label(root, text=\"Relative Position\", bg=\"lightblue\")\n",
    "label2.place(relx=0.5, rely=0.5, anchor=tk.CENTER)\n",
    "button = tk.Button(root, text=\"Click Me!\")\n",
    "button.place(x=100, rely=0.8)\n",
    "root.mainloop()"
   ]
  },
  {
   "cell_type": "markdown",
   "id": "0d233052-de23-4902-81db-7dc9fdafb8c6",
   "metadata": {},
   "source": [
    "**grid() method**"
   ]
  },
  {
   "cell_type": "code",
   "execution_count": null,
   "id": "18441779-4130-4fc1-ab29-57bd4f21cf67",
   "metadata": {},
   "outputs": [],
   "source": [
    "root = tk.Tk()\n",
    "root.title(\"Grid Example\")\n",
    "\n",
    "# Create labels\n",
    "label1 = tk.Label(root, text=\"Label 1\", bg=\"red\")\n",
    "label2 = tk.Label(root, text=\"Label 2\", bg=\"green\")\n",
    "label3 = tk.Label(root, text=\"Label 3\", bg=\"blue\")\n",
    "\n",
    "# Place labels using grid\n",
    "label1.grid(row=0, column=0, padx=10, pady=10)\n",
    "label2.grid(row=0, column=1, padx=10, pady=10)\n",
    "label3.grid(row=1, column=0, columnspan=2, sticky=\"we\")\n",
    "\n",
    "root.mainloop()"
   ]
  },
  {
   "cell_type": "markdown",
   "id": "e6d140f8-5476-47f0-8e37-a4c59e827098",
   "metadata": {},
   "source": [
    "**pack() method**"
   ]
  },
  {
   "cell_type": "code",
   "execution_count": 2,
   "id": "b99ae4d2-fde2-4465-8686-3282650ef32b",
   "metadata": {},
   "outputs": [],
   "source": [
    "root = tk.Tk()\n",
    "\n",
    "label1 = tk.Label(root, text=\"Label 1\")\n",
    "label1.pack(side=tk.LEFT)\n",
    "\n",
    "label2 = tk.Label(root, text=\"Label 2\")\n",
    "label2.pack(side=tk.LEFT)\n",
    "\n",
    "root.mainloop()"
   ]
  },
  {
   "cell_type": "code",
   "execution_count": 3,
   "id": "14f098f9-48d8-4e8c-af0c-b613290c0f6c",
   "metadata": {},
   "outputs": [],
   "source": [
    "root = tk.Tk()\n",
    "root.geometry(\"300x200\")\n",
    "\n",
    "label_top = tk.Label(root, text=\"Top\", bg=\"red\")\n",
    "label_top.pack(side=tk.TOP, fill=tk.X)\n",
    "\n",
    "label_bottom = tk.Label(root, text=\"Bottom\", bg=\"blue\")\n",
    "label_bottom.pack(side=tk.BOTTOM, fill=tk.X)\n",
    "\n",
    "label_left = tk.Label(root, text=\"Left\", bg=\"green\")\n",
    "label_left.pack(side=tk.LEFT, fill=tk.Y)\n",
    "\n",
    "label_right = tk.Label(root, text=\"Right\", bg=\"yellow\")\n",
    "label_right.pack(side=tk.RIGHT, fill=tk.Y)\n",
    "\n",
    "label_center = tk.Label(root, text=\"Center\", bg=\"white\")\n",
    "label_center.pack(expand=True)\n",
    "\n",
    "root.mainloop()"
   ]
  },
  {
   "cell_type": "markdown",
   "id": "511c611e-8305-4c6c-a9ea-051ab700d241",
   "metadata": {},
   "source": [
    "**geometry() method**"
   ]
  },
  {
   "cell_type": "code",
   "execution_count": 6,
   "id": "8010b26a-2194-4811-aee9-da3d0f06824e",
   "metadata": {},
   "outputs": [],
   "source": [
    "root=tk.Tk()\n",
    "root.geometry(\"200x450\")\n",
    "root.mainloop()"
   ]
  },
  {
   "cell_type": "markdown",
   "id": "963c1b5d-be78-4e65-83a9-ee88e2b4a5e4",
   "metadata": {},
   "source": [
    "**config() method**"
   ]
  },
  {
   "cell_type": "code",
   "execution_count": 5,
   "id": "4200a4e6-69e3-4b10-957c-0ec9982ae138",
   "metadata": {},
   "outputs": [],
   "source": [
    "root = tk.Tk()\n",
    "label = tk.Label(root, text=\"Hello, Tkinter!\")\n",
    "label.config(font=(\"Arial\", 18), fg=\"blue\", bg=\"yellow\")\n",
    "label.pack()\n",
    "root.mainloop()"
   ]
  },
  {
   "cell_type": "markdown",
   "id": "a7d83908-dd5b-4d9b-8e14-e002ecdfcbec",
   "metadata": {},
   "source": [
    "**bind() method**"
   ]
  },
  {
   "cell_type": "code",
   "execution_count": 7,
   "id": "74175f50-68bd-4547-8690-aafba265c705",
   "metadata": {},
   "outputs": [],
   "source": [
    "# widget.bind(event, callback_function)\n",
    "def on_button_click(event):\n",
    "    print(\"Button clicked!\")\n",
    "\n",
    "root = tk.Tk()\n",
    "button = tk.Button(root, text=\"Click Me\")\n",
    "button.bind(\"<Button-1>\", on_button_click)  # Bind left mouse button click event\n",
    "button.pack()\n",
    "root.mainloop()"
   ]
  },
  {
   "cell_type": "code",
   "execution_count": null,
   "id": "39f40594-2955-4717-adcf-19d05b481d5b",
   "metadata": {},
   "outputs": [],
   "source": []
  },
  {
   "cell_type": "code",
   "execution_count": null,
   "id": "931305b6-465a-4b55-b1fc-85dde1bcafef",
   "metadata": {},
   "outputs": [],
   "source": []
  },
  {
   "cell_type": "code",
   "execution_count": 27,
   "id": "338a9ec2-d1a6-4f7c-9c88-b8bfc2b51477",
   "metadata": {},
   "outputs": [],
   "source": [
    "root=tk.Tk()\n",
    "root.title(\"My Tkinter\")\n",
    "root.config(bg=\"red\")\n",
    "root.geometry(\"200x400\")\n",
    "x=tk.Label(root, text=\"Text\")\n",
    "x.config(font=(\"Arial\", 20, \"normal\"), fg=\"blue\", bg=\"purple\")\n",
    "def com():\n",
    "    print(\"button clicked\")\n",
    "string=tk.StringVar()\n",
    "string.set(\"Click or die\")\n",
    "v=tk.StringVar()\n",
    "def submit():\n",
    "    value=v.get()\n",
    "    print(value)\n",
    "    v.set(\"\")\n",
    "y=tk.Button(root, textvariable=string, bg=\"white\", fg=\"black\", command=com, font=(\"Arial\", 20, \"bold\"))\n",
    "z=tk.Entry(root, textvariable=v, bg=\"white\", fg=\"black\",  font=(\"Arial\", 20, \"bold\"))\n",
    "a=tk.Button(root, text=\"Click to display text\", bg=\"indigo\", fg=\"black\", font=(\"Arial\", 20, \"bold\"), command=submit)\n",
    "x.grid(row=0, column=0)\n",
    "y.grid(row=1, column=0)\n",
    "z.grid(row=2, column=0)\n",
    "a.grid(row=3, column=0)\n",
    "root.mainloop()"
   ]
  },
  {
   "cell_type": "code",
   "execution_count": null,
   "id": "ba767113-4168-4683-8634-26a130972c26",
   "metadata": {},
   "outputs": [
    {
     "name": "stdout",
     "output_type": "stream",
     "text": [
      "(0, 2)\n",
      "(0, 1)\n",
      "(4, 1)\n",
      "(4, 2)\n"
     ]
    }
   ],
   "source": [
    "root=tk.Tk()\n",
    "def click(event):\n",
    "    x=event.x_root - f.winfo_rootx()\n",
    "    y=event.y_root - f.winfo_rooty()\n",
    "    z=f.grid_location(x, y)\n",
    "    print(z)\n",
    "f=tk.Frame(root)\n",
    "f.pack()\n",
    "b = tk.Button(f, text = \"Button\")\n",
    "b.grid(row = 2, column = 3)\n",
    " \n",
    "c = tk.Button(f, text = \"Button2\")\n",
    "c.grid(row = 1, column = 0)\n",
    "\n",
    "root.bind(\"<Button-1>\", click)\n",
    "\n",
    "root.mainloop()"
   ]
  },
  {
   "cell_type": "code",
   "execution_count": null,
   "id": "166fb91f-92d0-40ac-bad8-bb79f4f70e3f",
   "metadata": {},
   "outputs": [],
   "source": []
  },
  {
   "cell_type": "code",
   "execution_count": null,
   "id": "d85fa4d2-3512-4b50-ae16-1ad14da59339",
   "metadata": {},
   "outputs": [],
   "source": []
  },
  {
   "cell_type": "code",
   "execution_count": 57,
   "id": "5acdccd8-ad37-4a81-a330-bf15ceea87d7",
   "metadata": {},
   "outputs": [],
   "source": [
    "root=tk.Tk()\n",
    "root.title(\"calculator\")\n",
    "f=tk.Frame(root, bg=\"gray\", cursor=\"hand2\")\n",
    "f.pack()\n",
    "#text_i=tk.StringVar()\n",
    "inp=tk.Entry(f, bg=\"lightblue\", font=(\"Arial\", 15, \"bold\"))\n",
    "inp.grid(row=0, column=0, columnspan=4)\n",
    "symbols=[\"(\", \")\", \"%\", \"/\", \"1\", \"2\", \"3\", \"*\", \"4\", \"5\", \"6\", \"-\", \"7\", \"8\", \"9\", \"+\", \"C\", \"0\", \".\", \"=\"] # C, =\n",
    "\n",
    "def submit():\n",
    "    try:\n",
    "        res=eval(inp.get())\n",
    "        inp.delete(0, tk.END)\n",
    "        inp.insert(tk.END, str(res))\n",
    "    except:\n",
    "        inp.delete(0, tk.END)\n",
    "        inp.insert(tk.END, \"Error\")\n",
    "def create_widget(symbol, **options):\n",
    "    return tk.Button(f, text=symbol, fg=\"black\", bg=\"white\", font=(\"Arial\", 20, \"bold\"), **options)\n",
    "k=0\n",
    "for r in range(1, 6):\n",
    "    for c in range(0, 4):\n",
    "        if symbols[k]!=\"=\" and symbols[k]!= \"C\":\n",
    "            x=create_widget(symbols[k], command=lambda sym=symbols[k]:inp.insert(tk.END, sym))\n",
    "        elif symbols[k]==\"C\":\n",
    "            x=create_widget(symbols[k], command=lambda:inp.delete(0, tk.END))\n",
    "        else:\n",
    "            x=create_widget(symbols[k], command=submit)\n",
    "        x.grid(row=r, column=c, sticky=\"nsew\")\n",
    "        k+=1\n",
    "        \n",
    "            \n",
    "root.mainloop()"
   ]
  },
  {
   "cell_type": "code",
   "execution_count": 33,
   "id": "773cfca0-561f-434f-aea7-1ab0ddae9bce",
   "metadata": {},
   "outputs": [
    {
     "name": "stdout",
     "output_type": "stream",
     "text": [
      "2\n"
     ]
    }
   ],
   "source": []
  },
  {
   "cell_type": "code",
   "execution_count": 47,
   "id": "004ea89a-9d53-44c6-b632-b6c393e05615",
   "metadata": {},
   "outputs": [
    {
     "name": "stdout",
     "output_type": "stream",
     "text": [
      "1\n"
     ]
    }
   ],
   "source": []
  },
  {
   "cell_type": "code",
   "execution_count": null,
   "id": "6ebf8261-1149-48a0-b245-1370e8d8e809",
   "metadata": {},
   "outputs": [],
   "source": []
  },
  {
   "cell_type": "code",
   "execution_count": null,
   "id": "962081b2-41b0-4cc3-a06a-7d323fb569bd",
   "metadata": {},
   "outputs": [],
   "source": []
  }
 ],
 "metadata": {
  "kernelspec": {
   "display_name": "Python 3 (ipykernel)",
   "language": "python",
   "name": "python3"
  },
  "language_info": {
   "codemirror_mode": {
    "name": "ipython",
    "version": 3
   },
   "file_extension": ".py",
   "mimetype": "text/x-python",
   "name": "python",
   "nbconvert_exporter": "python",
   "pygments_lexer": "ipython3",
   "version": "3.12.0"
  }
 },
 "nbformat": 4,
 "nbformat_minor": 5
}
